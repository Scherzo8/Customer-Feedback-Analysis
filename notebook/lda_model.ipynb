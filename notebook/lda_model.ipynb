{
 "cells": [
  {
   "cell_type": "code",
   "execution_count": null,
   "metadata": {
    "vscode": {
     "languageId": "plaintext"
    }
   },
   "outputs": [],
   "source": [
    "import joblib\n",
    "\n",
    "# Vectorization and training LDA\n",
    "vectorizer = CountVectorizer(max_df=0.9, min_df=2, stop_words='english')\n",
    "text_vectorized = vectorizer.fit_transform(all_cleaned_text)  # Use your dataset\n",
    "lda = LatentDirichletAllocation(n_components=3, random_state=42)\n",
    "lda.fit(text_vectorized)\n",
    "\n",
    "# Save the vectorizer and model\n",
    "joblib.dump(vectorizer, \"vectorizer.pkl\")\n",
    "joblib.dump(lda, \"lda_model.pkl\")\n",
    "\n",
    "# Extract and save topics\n",
    "words = vectorizer.get_feature_names_out()\n",
    "topics = []\n",
    "for topic_idx, topic in enumerate(lda.components_):\n",
    "    topics.append([words[i] for i in topic.argsort()[-10:]])\n",
    "print(\"Extracted Topics:\", topics)\n"
   ]
  }
 ],
 "metadata": {
  "language_info": {
   "name": "python"
  }
 },
 "nbformat": 4,
 "nbformat_minor": 2
}
